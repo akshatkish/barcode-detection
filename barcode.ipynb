{
 "cells": [
  {
   "cell_type": "code",
   "execution_count": null,
   "metadata": {},
   "outputs": [],
   "source": [
    "import numpy as np\n",
    "import pandas as pd\n",
    "import matplotlib.pyplot as plt\n",
    "import cv2\n",
    "import argparse\n",
    "import imutils"
   ]
  },
  {
   "cell_type": "markdown",
   "metadata": {},
   "source": [
    "Imported all required libraries"
   ]
  },
  {
   "cell_type": "code",
   "execution_count": null,
   "metadata": {},
   "outputs": [],
   "source": [
    "img = cv2.imread('/home/dev/picture-data/img.jpeg')\n",
    "gray = cv2.cvtColor(img,cv2.COLOR_BGR2GRAY)\n",
    "gray_blur = cv2.GaussianBlur(gray,(3,3),cv2.BORDER_DEFAULT)"
   ]
  },
  {
   "cell_type": "markdown",
   "metadata": {},
   "source": [
    "Converting image to grayscale and subsequently convert it to grayscale. Then we filter out high frequency components from image by using Gaussian Blur as upcoming Scharr's operator would generate lots of noise."
   ]
  },
  {
   "cell_type": "code",
   "execution_count": null,
   "metadata": {},
   "outputs": [],
   "source": [
    "destination_depth = cv2.cv.CV_32F if imutils.is_cv2() else cv2.CV_32F\n",
    "gradient_X = cv2.Sobel(gray, ddepth=destination_depth, dx=1, dy=0, ksize=-1)\n",
    "gradient_Y = cv2.Sobel(gray, ddepth=destination_depth, dx=0, dy=1, ksize=-1)\n",
    "gradient = cv2.subtract(gradient_X, gradient_Y)\n",
    "gradient = cv2.convertScaleAbs(gradient)"
   ]
  },
  {
   "cell_type": "markdown",
   "metadata": {},
   "source": [
    "We figure out components in the image with higher horizontal derivative than vertical gradient such as in barcode where vertically same color persists and horizontally blacks and whites change rapidly. In case of a 90 degree rotated barcode in image, we can subtract gradient_X from gradient_Y which has been managed in step 5.\n",
    "\n",
    "ksize = -1 signifies Scharr's operator which approximates derivative using a different kernel than Sobel which gives a more accurate result."
   ]
  },
  {
   "cell_type": "code",
   "execution_count": null,
   "metadata": {},
   "outputs": [],
   "source": [
    "im_blur = cv2.GaussianBlur(gradient, (3, 3),cv2.BORDER_DEFAULT)\n",
    "(_, threshold) = cv2.threshold(im_blur, 225, 255, cv2.THRESH_BINARY)\n",
    "shape = cv2.getStructuringElement(cv2.MORPH_RECT, (21, 7))\n",
    "enclosure = cv2.morphologyEx(threshold, cv2.MORPH_CLOSE, shape)\n",
    "enclosure = cv2.erode(enclosure, None, iterations = 4)\n",
    "enclosure = cv2.dilate(enclosure, None, iterations = 4)\n",
    "contours = cv2.findContours(enclosure.copy(), cv2.RETR_EXTERNAL,\n",
    "    cv2.CHAIN_APPROX_SIMPLE)\n",
    "contours = imutils.grab_contours(contours)\n",
    "sorted_contours = sorted(contours, key = cv2.contourArea, reverse = True)[0]\n",
    "approx_rectangle = cv2.minAreaRect(sorted_contours)\n",
    "bounding_box = cv2.cv.BoxPoints(approx_rectangle) if imutils.is_cv2() else cv2.boxPoints(approx_rectangle)\n",
    "bounding_box = np.int0(bounding_box)\n",
    "cv2.drawContours(img, [bounding_box], -1, (0, 255, 0), 3)\n",
    "cv2.imshow(\"Image\", img)\n",
    "cv2.waitKey(0)\n",
    "cv2.destroyAllWindows()"
   ]
  },
  {
   "cell_type": "code",
   "execution_count": null,
   "metadata": {},
   "outputs": [],
   "source": []
  }
 ],
 "metadata": {
  "kernelspec": {
   "display_name": "Python 3",
   "language": "python",
   "name": "python3"
  },
  "language_info": {
   "codemirror_mode": {
    "name": "ipython",
    "version": 3
   },
   "file_extension": ".py",
   "mimetype": "text/x-python",
   "name": "python",
   "nbconvert_exporter": "python",
   "pygments_lexer": "ipython3",
   "version": "3.6.7"
  }
 },
 "nbformat": 4,
 "nbformat_minor": 2
}
